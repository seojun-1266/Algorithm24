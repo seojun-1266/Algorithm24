{
 "cells": [
  {
   "cell_type": "markdown",
   "metadata": {},
   "source": [
    "## 선택정렬 문제"
   ]
  },
  {
   "cell_type": "markdown",
   "metadata": {},
   "source": []
  },
  {
   "cell_type": "code",
   "execution_count": 7,
   "metadata": {},
   "outputs": [
    {
     "name": "stdout",
     "output_type": "stream",
     "text": [
      "Original:  [5, 6, 7, 9, 3, 5]\n",
      "Selection:  [3, 5, 5, 6, 7, 9]\n"
     ]
    }
   ],
   "source": [
    "def selection_sort(A):\n",
    "    n = len(A)\n",
    "    for i in range(n-1):\n",
    "        least = i\n",
    "        for j in range(i + 1, n):\n",
    "            if A[j] < A[least]:\n",
    "                least = j\n",
    "        A[i], A[least] = A[least], A[i]\n",
    "      \n",
    "\n",
    "data = [5, 6, 7, 9, 3, 5] \n",
    "print(\"Original: \", data)\n",
    "selection_sort(data)\n",
    "print(\"Selection: \", data)\n"
   ]
  },
  {
   "cell_type": "code",
   "execution_count": null,
   "metadata": {},
   "outputs": [],
   "source": []
  }
 ],
 "metadata": {
  "kernelspec": {
   "display_name": "Python 3",
   "language": "python",
   "name": "python3"
  },
  "language_info": {
   "codemirror_mode": {
    "name": "ipython",
    "version": 3
   },
   "file_extension": ".py",
   "mimetype": "text/x-python",
   "name": "python",
   "nbconvert_exporter": "python",
   "pygments_lexer": "ipython3",
   "version": "3.12.2"
  }
 },
 "nbformat": 4,
 "nbformat_minor": 2
}
