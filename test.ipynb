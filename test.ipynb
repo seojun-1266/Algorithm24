{
 "cells": [
  {
   "cell_type": "markdown",
   "metadata": {},
   "source": [
    "## 선택정렬 문제"
   ]
  },
  {
   "cell_type": "markdown",
   "metadata": {},
   "source": []
  },
  {
   "cell_type": "code",
   "execution_count": 7,
   "metadata": {},
   "outputs": [
    {
     "name": "stdout",
     "output_type": "stream",
     "text": [
      "Original:  [5, 6, 7, 9, 3, 5]\n",
      "Selection:  [3, 5, 5, 6, 7, 9]\n"
     ]
    }
   ],
   "source": [
    "    _      _      _      _      _      _      _      _      _      _      _      _      _\n",
    "   | |    | |    | |    | |    | |    | |    | |    | |    | |    | |    | |    | |    | |\n",
    "   | |____| |____| |____| |____| |____| |____| |____| |____| |____| |____| |____| |____| |__\n",
    "5V_|                                                                                       |__\n",
    "0V_|_______________________________________________________________________________________|\n",
    "   |<-0.7ms->|<--------------------------1ms---------------------------->|<-0.7ms->|\n"
   ]
  },
  {
   "cell_type": "code",
   "execution_count": null,
   "metadata": {},
   "outputs": [],
   "source": []
  }
 ],
 "metadata": {
  "kernelspec": {
   "display_name": "Python 3",
   "language": "python",
   "name": "python3"
  },
  "language_info": {
   "codemirror_mode": {
    "name": "ipython",
    "version": 3
   },
   "file_extension": ".py",
   "mimetype": "text/x-python",
   "name": "python",
   "nbconvert_exporter": "python",
   "pygments_lexer": "ipython3",
   "version": "3.12.2"
  }
 },
 "nbformat": 4,
 "nbformat_minor": 2
}
