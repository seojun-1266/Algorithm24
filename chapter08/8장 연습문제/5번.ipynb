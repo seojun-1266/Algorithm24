{
 "cells": [
  {
   "cell_type": "markdown",
   "metadata": {},
   "source": [
    "#### 5. A=(60Kg, 10만원), B=(100Kg, 20만원), C=(120Kg, 30만원)의 세 물건이 있을 때 탐욕적 기법의 분할 가능한 배낭 채우기 알고리즘으로용량 50Kg인 배낭을 채우는 최적의 방법을 구하라."
   ]
  },
  {
   "cell_type": "markdown",
   "metadata": {},
   "source": [
    "배낭 용량: 50Kg\n",
    "\n",
    "C의 최대 무게는 120Kg인데, 배낭에 50Kg만 채울 수 있습니다.\n",
    "따라서, C의 일부를 채웁니다: 50Kg * 2.5만원/Kg = 125만원\n",
    "따라서, 용량 50Kg인 배낭을 채우는 최적의 방법은 C 물건을 50Kg 채우는 것이며, 그로 인한 총 가치는 125만원입니다."
   ]
  },
  {
   "cell_type": "markdown",
   "metadata": {},
   "source": []
  }
 ],
 "metadata": {
  "language_info": {
   "name": "python"
  }
 },
 "nbformat": 4,
 "nbformat_minor": 2
}
