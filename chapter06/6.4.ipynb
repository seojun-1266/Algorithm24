{
 "cells": [
  {
   "cell_type": "markdown",
   "metadata": {},
   "source": [
    "# 문제정의\n",
    "해시 알고리즘\n"
   ]
  },
  {
   "cell_type": "markdown",
   "metadata": {},
   "source": [
    "# 알고리즘 설명\n",
    "해시 알고리즘은 임의의 데이터를 고정된 크기의 고유한 값으로 변환하는 함수"
   ]
  },
  {
   "cell_type": "markdown",
   "metadata": {},
   "source": [
    "# 손으로 푼 예제 이미지 사진\n"
   ]
  },
  {
   "cell_type": "markdown",
   "metadata": {},
   "source": [
    "# 코드 개요\n",
    "입력 : T, p\n",
    "출력 :     \n",
    "함수 내용 :   \n",
    "preorder() : 이진 트리를 순회하여 노드의 값을 출력하는 함수"
   ]
  },
  {
   "cell_type": "code",
   "execution_count": 1,
   "metadata": {},
   "outputs": [],
   "source": [
    "# 알고리즘 코드\n",
    "def search_horspool(T,P):\n",
    "    m=len(P)\n",
    "    n=len(T)\n",
    "    t=shift_table(P)\n",
    "    i=m-1\n",
    "    while(i<=n-1):\n",
    "        k=0\n",
    "        while k<=m-1 and P[m-1-k]==T[i-k]:\n",
    "            k +=1\n",
    "        if k==m:\n",
    "            return i-m+1\n",
    "        else:\n",
    "            tc=t[ord(T[i-k])]\n",
    "            i+=(tc-k)\n",
    "    return -1"
   ]
  },
  {
   "cell_type": "code",
   "execution_count": 6,
   "metadata": {},
   "outputs": [
    {
     "name": "stdout",
     "output_type": "stream",
     "text": [
      "패턴의 위치:  24\n"
     ]
    }
   ],
   "source": [
    "\n",
    "# 테스트 코드\n",
    "NO_OF_CHARS=128\n",
    "def shift_table(pat):\n",
    "    m=len(pat)\n",
    "    tbl=[m]*NO_OF_CHARS\n",
    "\n",
    "    for i in range(m-1):\n",
    "        tbl[ord(pat[i])]=m-1-i\n",
    "\n",
    "    return tbl\n",
    "\n",
    "def search_horspool(T,P):\n",
    "    m=len(P)\n",
    "    n=len(T)\n",
    "    t=shift_table(P)\n",
    "    i=m-1\n",
    "    while(i<=n-1):\n",
    "        k=0\n",
    "        while k<=m-1 and P[m-1-k]==T[i-k]:\n",
    "            k +=1\n",
    "        if k==m:\n",
    "            return i-m+1\n",
    "        else:\n",
    "            tc=t[ord(T[i-k])]\n",
    "            i+=(tc-k)\n",
    "    return -1\n",
    "\n",
    "print(\"패턴의 위치: \",search_horspool(\"LEAGUEOFLEGENDSOVERWATCHHEROSOFTHESTORMS\",\"HEROSOFTHESTORMS\"))"
   ]
  },
  {
   "attachments": {
    "image.png": {
     "image/png": "[encoded data removed]"
    }
   },
   "cell_type": "markdown",
   "metadata": {},
   "source": [
    "# 수행 결과\n",
    "![image.png](attachment:image.png)\n"
   ]
  },
  {
   "cell_type": "markdown",
   "metadata": {},
   "source": [
    "# 복잡도 분석\n",
    "\n",
    "주어진 텍스트와 패턴의 길이를 찾는 것: O(1)  \n",
    "시프트 테이블을 생성하는 것 : O(m)  \n",
    "외부 루프(while 루프)에서의 반복 횟수: n-m  \n",
    "각 반복에서 패턴과 텍스트의 비교 : O(1)  \n",
    "이동 거리 계산 및 인덱스 이동 : O(1)  \n",
    "외부 루프의 반복 횟수는 최대 n−m+1번이고, 내부 루프의 반복 횟수는 최대 m번  \n",
    "따라서 시간복잡도 : O(mn)  "
   ]
  },
  {
   "cell_type": "markdown",
   "metadata": {},
   "source": [
    "# 협력 내용\n",
    "홍서준 : 6-9\n",
    "최민호 : 6-8  \n",
    "권재훈 : 6-6, 6-7  \n",
    "이재선 : 6-3, 6-4"
   ]
  },
  {
   "cell_type": "markdown",
   "metadata": {},
   "source": []
  }
 ],
 "metadata": {
  "kernelspec": {
   "display_name": "Python 3",
   "language": "python",
   "name": "python3"
  },
  "language_info": {
   "codemirror_mode": {
    "name": "ipython",
    "version": 3
   },
   "file_extension": ".py",
   "mimetype": "text/x-python",
   "name": "python",
   "nbconvert_exporter": "python",
   "pygments_lexer": "ipython3",
   "version": "3.12.2"
  }
 },
 "nbformat": 4,
 "nbformat_minor": 2
}
