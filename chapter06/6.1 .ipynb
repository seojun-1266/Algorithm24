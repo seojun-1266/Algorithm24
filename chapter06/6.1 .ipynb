{
 "cells": [
  {
   "cell_type": "markdown",
   "metadata": {},
   "source": [
    "# 문제정의\n",
    "기수정렬"
   ]
  },
  {
   "cell_type": "markdown",
   "metadata": {},
   "source": [
    "# 알고리즘 설면\n",
    "버킷을 사용하여 공간을 활용해 시간 복잡도를 줄이는 알고리즘"
   ]
  },
  {
   "cell_type": "markdown",
   "metadata": {},
   "source": [
    "# 손으로 푼 예제 이미지 사진\n"
   ]
  },
  {
   "cell_type": "markdown",
   "metadata": {},
   "source": [
    "# 코드 개요\n",
    "입력 : A\n",
    "출력 : 정렬된 A\n",
    "함수 내용 :   \n",
    "radix_sort(A) : Queue에 BUCKETS개의 큐 삽입을 반복"
   ]
  },
  {
   "cell_type": "code",
   "execution_count": 1,
   "metadata": {},
   "outputs": [
    {
     "name": "stdout",
     "output_type": "stream",
     "text": [
      "Original: [1, 4, 1, 2, 7, 5, 2]\n",
      "Counting: [1, 1, 2, 2, 4, 5, 7]\n"
     ]
    }
   ],
   "source": [
    "#알고리즘 코드\n",
    "from queue import Queue\n",
    "\n",
    "def radix_sort(A):\n",
    "    queues = []\n",
    "    for i in range(BUCKETS):\n",
    "        queues.append(Queue())\n",
    "\n",
    "    n = len(A)\n",
    "    factor = 1\n",
    "    for d in range(DIGITS):\n",
    "        for i in range(n):\n",
    "            queues[(A[i] // factor) % BUCKETS].put(A[i])\n",
    "        j = 0\n",
    "        for b in range(BUCKETS):\n",
    "            while not queues[b].empty():\n",
    "                A[j] = queues[b].get()\n",
    "                j += 1\n",
    "        factor *= BUCKETS\n",
    "        print(\"stop\", d + 1, A)"
   ]
  },
  {
   "cell_type": "code",
   "execution_count": 2,
   "metadata": {},
   "outputs": [
    {
     "name": "stdout",
     "output_type": "stream",
     "text": [
      "stop 1 [5050, 581, 3292, 5642, 612, 9943, 7744, 7495, 186, 7429]\n",
      "stop 2 [612, 7429, 5642, 9943, 7744, 5050, 581, 186, 3292, 7495]\n",
      "stop 3 [5050, 186, 3292, 7429, 7495, 581, 612, 5642, 7744, 9943]\n",
      "stop 4 [186, 581, 612, 3292, 5050, 5642, 7429, 7495, 7744, 9943]\n",
      "Radix:  [186, 581, 612, 3292, 5050, 5642, 7429, 7495, 7744, 9943]\n"
     ]
    }
   ],
   "source": [
    "#테스트 코드\n",
    "from queue import Queue\n",
    "\n",
    "def radix_sort(A):\n",
    "    queues = []\n",
    "    for i in range(BUCKETS):\n",
    "        queues.append(Queue())\n",
    "\n",
    "    n = len(A)\n",
    "    factor = 1\n",
    "    for d in range(DIGITS):\n",
    "        for i in range(n):\n",
    "            queues[(A[i] // factor) % BUCKETS].put(A[i])\n",
    "        j = 0\n",
    "        for b in range(BUCKETS):\n",
    "            while not queues[b].empty():\n",
    "                A[j] = queues[b].get()\n",
    "                j += 1\n",
    "        factor *= BUCKETS\n",
    "        print(\"stop\", d + 1, A)\n",
    "\n",
    "import random\n",
    "BUCKETS=10\n",
    "DIGITS=4\n",
    "data=[]\n",
    "for i in range(10):\n",
    "    data.append(random.randint(1,9999))\n",
    "radix_sort(data)\n",
    "print(\"Radix: \",data)"
   ]
  },
  {
   "attachments": {
    "image.png": {
     "image/png": "[encoded data removed]"
    }
   },
   "cell_type": "markdown",
   "metadata": {},
   "source": [
    "# 수행 결과\n",
    "![image.png](attachment:image.png)"
   ]
  },
  {
   "cell_type": "markdown",
   "metadata": {},
   "source": [
    "# 복잡도 분석\n",
    "외부루프는 d번 이상 반복, 내부루프는 n번 반복되므로 T(n)=d(n+n)이고, 기수정렬은 O(d*n)의 시간복잡도를 가진다.\n",
    "\n",
    "하지만 일반적으로 d는 n에 비해서 아주 작은 수가 되므로 기수 정렬은 O(n) 이라고 하여도 무방하다."
   ]
  },
  {
   "cell_type": "markdown",
   "metadata": {},
   "source": [
    "# 협력 내용"
   ]
  },
  {
   "cell_type": "markdown",
   "metadata": {},
   "source": []
  }
 ],
 "metadata": {
  "kernelspec": {
   "display_name": "Python 3",
   "language": "python",
   "name": "python3"
  },
  "language_info": {
   "codemirror_mode": {
    "name": "ipython",
    "version": 3
   },
   "file_extension": ".py",
   "mimetype": "text/x-python",
   "name": "python",
   "nbconvert_exporter": "python",
   "pygments_lexer": "ipython3",
   "version": "3.12.2"
  }
 },
 "nbformat": 4,
 "nbformat_minor": 2
}
