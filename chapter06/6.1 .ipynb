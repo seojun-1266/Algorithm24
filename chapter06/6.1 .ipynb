{
 "cells": [
  {
   "cell_type": "markdown",
   "metadata": {},
   "source": [
    "# 문제정의\n",
    "기수정렬"
   ]
  },
  {
   "cell_type": "markdown",
   "metadata": {},
   "source": [
    "# 알고리즘 설명\n",
    "버킷을 사용하여 공간을 활용해 시간 복잡도를 줄이는 알고리즘"
   ]
  },
  {
   "cell_type": "markdown",
   "metadata": {},
   "source": [
    "# 손으로 푼 예제 이미지 사진\n"
   ]
  },
  {
   "cell_type": "markdown",
   "metadata": {},
   "source": [
    "# 코드 개요\n",
    "입력 : 트리의 각 노드  \n",
    "출력 : 트리의 높이    \n",
    "함수 내용 :   \n",
    "preorder() : 이진 트리를 순회하여 노드의 값을 출력하는 함수"
   ]
  },
  {
   "cell_type": "code",
   "execution_count": 1,
   "metadata": {},
   "outputs": [
    {
     "name": "stdout",
     "output_type": "stream",
     "text": [
      "Original: [1, 4, 1, 2, 7, 5, 2]\n",
      "Counting: [1, 1, 2, 2, 4, 5, 7]\n"
     ]
    }
   ],
   "source": [
    "# 알고리즘코드\n",
    "from queue import Queue\n",
    "def radix_sort(A) :\n",
    "    queues = []\n",
    "    for i in range(BUCKETS) :\n",
    "        queues.append(Queue())\n",
    "\n",
    "    n = len(A)\n",
    "    factor = 1\n",
    "    for d in range(DIGITS) :\n",
    "            for i in range(n) :\n",
    "                queues[(A[i]//factor) % BUCKETS].put(A[i])\n",
    "            j = 0\n",
    "            for b in range(BUCKETS) :\n",
    "                while not queues[b].empty():\n",
    "                    A[j] = queues[b].get()\n",
    "                    j += 1\n",
    "            factor *= BUCKETS\n",
    "            print(\"step\", d+1, A)"
   ]
  },
  {
   "cell_type": "code",
   "execution_count": 2,
   "metadata": {},
   "outputs": [
    {
     "name": "stdout",
     "output_type": "stream",
     "text": [
      "step 1 [2390, 4611, 5161, 5591, 3251, 675, 796, 4477, 8098, 2088]\n",
      "step 2 [4611, 3251, 5161, 675, 4477, 2088, 2390, 5591, 796, 8098]\n",
      "step 3 [2088, 8098, 5161, 3251, 2390, 4477, 5591, 4611, 675, 796]\n",
      "step 4 [675, 796, 2088, 2390, 3251, 4477, 4611, 5161, 5591, 8098]\n",
      "Radix:  [675, 796, 2088, 2390, 3251, 4477, 4611, 5161, 5591, 8098]\n"
     ]
    }
   ],
   "source": [
    "#테스트 코드\n",
    "from queue import Queue\n",
    "def radix_sort(A) :\n",
    "    queues = []\n",
    "    for i in range(BUCKETS) :\n",
    "        queues.append(Queue())\n",
    "\n",
    "    n = len(A)\n",
    "    factor = 1\n",
    "    for d in range(DIGITS) :\n",
    "            for i in range(n) :\n",
    "                queues[(A[i]//factor) % BUCKETS].put(A[i])\n",
    "            j = 0\n",
    "            for b in range(BUCKETS) :\n",
    "                while not queues[b].empty():\n",
    "                    A[j] = queues[b].get()\n",
    "                    j += 1\n",
    "            factor *= BUCKETS\n",
    "            print(\"step\", d+1, A)\n",
    "\n",
    "import random\n",
    "BUCKETS = 10\n",
    "DIGITS = 4\n",
    "data = []\n",
    "for i in range(10) :\n",
    "    data.append(random.randint(1,9999))\n",
    "radix_sort(data)\n",
    "print(\"Radix: \", data)"
   ]
  },
  {
   "attachments": {
    "6.1 수행 결과.png": {
     "image/png": "[encoded data removed]"
    }
   },
   "cell_type": "markdown",
   "metadata": {},
   "source": [
    "# 수행 결과\n",
    "![6.1 수행 결과.png](<attachment:6.1 수행 결과.png>)"
   ]
  },
  {
   "cell_type": "markdown",
   "metadata": {},
   "source": [
    "# 복잡도 분석\n",
    "O(n)"
   ]
  },
  {
   "cell_type": "markdown",
   "metadata": {},
   "source": [
    "# 협력 내용\n",
    "홍서준 : 3, 4, 5  \n",
    "최민호 : 6, 7  \n",
    "권재훈 : 8, 9  \n",
    "이재선 : 10, 12, 13 \n"
   ]
  },
  {
   "cell_type": "markdown",
   "metadata": {},
   "source": []
  }
 ],
 "metadata": {
  "kernelspec": {
   "display_name": "Python 3",
   "language": "python",
   "name": "python3"
  },
  "language_info": {
   "codemirror_mode": {
    "name": "ipython",
    "version": 3
   },
   "file_extension": ".py",
   "mimetype": "text/x-python",
   "name": "python",
   "nbconvert_exporter": "python",
   "pygments_lexer": "ipython3",
   "version": "3.12.2"
  }
 },
 "nbformat": 4,
 "nbformat_minor": 2
}
