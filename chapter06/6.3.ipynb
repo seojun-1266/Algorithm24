{
 "cells": [
  {
   "cell_type": "markdown",
   "metadata": {},
   "source": [
    "# 문제정의\n",
    "이진트리를 전위 순회로 방문하는 문제 "
   ]
  },
  {
   "cell_type": "markdown",
   "metadata": {},
   "source": [
    "# 알고리즘 설명\n",
    "\n",
    "루트 노드를 먼저 방문한 후에 왼쪽 서브트리를 순회하고 오른쪽 서브트리를 순회하는 방식\n"
   ]
  },
  {
   "cell_type": "markdown",
   "metadata": {},
   "source": [
    "# 손으로 푼 예제 이미지 사진\n"
   ]
  },
  {
   "cell_type": "markdown",
   "metadata": {},
   "source": [
    "# 코드 개요\n",
    "입력 : 트리의 각 노드\n",
    "출력 : 트리의 높이\n",
    "함수 내용 : \n",
    "preorder() : 이진 트리를 순회하여 노드의 값을 출력하는 gkatn"
   ]
  },
  {
   "cell_type": "code",
   "execution_count": 1,
   "metadata": {},
   "outputs": [],
   "source": [
    "# 코드\n",
    "def preorder(node):\n",
    "    if node is not None:\n",
    "        print(n.data, end=' ')\n",
    "        preorder(n.left)\n",
    "        preorder(n.right)"
   ]
  },
  {
   "cell_type": "code",
   "execution_count": 3,
   "metadata": {},
   "outputs": [
    {
     "name": "stdout",
     "output_type": "stream",
     "text": [
      " Pre-Order: A B D E C F \n"
     ]
    }
   ],
   "source": [
    "# 테스트 코드\n",
    "\n",
    "class TreeNode:\n",
    "    def __init__(self, key, left=None, right=None):\n",
    "        self.key = key\n",
    "        self.left = left\n",
    "        self.right = right\n",
    "\n",
    "def preorder(node):\n",
    "    if node is not None:\n",
    "        print(node.key, end=' ')  \n",
    "        preorder(node.left) \n",
    "        preorder(node.right) \n",
    "\n",
    "d = TreeNode('D')\n",
    "e = TreeNode('E')\n",
    "b = TreeNode('B', d, e)\n",
    "f = TreeNode('F')\n",
    "c = TreeNode('C', f)\n",
    "root = TreeNode('A', b, c)\n",
    "\n",
    "print(' Pre-Order:', end=' ')\n",
    "preorder(root)\n",
    "print()\n",
    "\n"
   ]
  },
  {
   "attachments": {
    "5.5실행결과.png": {
     "image/png": "[encoded data removed]"
    }
   },
   "cell_type": "markdown",
   "metadata": {},
   "source": [
    "# 수행 결과\n",
    "![5.5실행결과.png](attachment:5.5실행결과.png) \n"
   ]
  },
  {
   "cell_type": "markdown",
   "metadata": {},
   "source": [
    "# 복잡도 분석\n",
    "O(n)"
   ]
  },
  {
   "cell_type": "markdown",
   "metadata": {},
   "source": [
    "# 협력 내용\n",
    "홍서준 : 3, 4, 5  \n",
    "최민호 : 6, 7  \n",
    "권재훈 : 8, 9  \n",
    "이재선 : 10, 12, 13 \n"
   ]
  },
  {
   "cell_type": "markdown",
   "metadata": {},
   "source": []
  }
 ],
 "metadata": {
  "kernelspec": {
   "display_name": "Python 3",
   "language": "python",
   "name": "python3"
  },
  "language_info": {
   "codemirror_mode": {
    "name": "ipython",
    "version": 3
   },
   "file_extension": ".py",
   "mimetype": "text/x-python",
   "name": "python",
   "nbconvert_exporter": "python",
   "pygments_lexer": "ipython3",
   "version": "3.12.2"
  }
 },
 "nbformat": 4,
 "nbformat_minor": 2
}
