{
 "cells": [
  {
   "cell_type": "markdown",
   "metadata": {},
   "source": [
    "# 문제정의\n",
    "문자열 매칭(호어 알고리즘)"
   ]
  },
  {
   "cell_type": "markdown",
   "metadata": {},
   "source": [
    "# 알고리즘 설명\n",
    "\n",
    "하나의 위치에서 패턴은 뒤에서 앞으로 검사  \n",
    "시프트 테이블은 각 문자의 이동 거리를 사전에 계산하여 저장  "
   ]
  },
  {
   "cell_type": "markdown",
   "metadata": {},
   "source": [
    "# 손으로 푼 예제 이미지 사진\n"
   ]
  },
  {
   "cell_type": "markdown",
   "metadata": {},
   "source": [
    "# 코드 개요\n",
    "입력 : pat\n",
    "출력 : tbl\n",
    "함수 내용 :  \n",
    "shift_table() : 패턴의 모든 문자에 대해 그 알파벳이 패턴의 몇번째 문자인이 탐색 후 저장한다."
   ]
  },
  {
   "cell_type": "code",
   "execution_count": 1,
   "metadata": {},
   "outputs": [],
   "source": [
    "# 코드\n",
    "NO_OF_CHARS=128\n",
    "def shift_table(pat):\n",
    "    m=len(pat)\n",
    "    tbl=[m]*NO_OF_CHARS\n",
    "\n",
    "    for i in range(m-1):\n",
    "        tbl[ord(pat[i])]=m-1-i\n",
    "\n",
    "    return tbl\n"
   ]
  },
  {
   "cell_type": "code",
   "execution_count": 3,
   "metadata": {},
   "outputs": [
    {
     "name": "stdout",
     "output_type": "stream",
     "text": [
      "패턴의 위치:  0\n"
     ]
    }
   ],
   "source": [
    "# 테스트 코드\n",
    "\n",
    "NO_OF_CHARS=128\n",
    "def shift_table(pat):\n",
    "    m=len(pat)\n",
    "    tbl=[m]*NO_OF_CHARS\n",
    "\n",
    "    for i in range(m-1):\n",
    "        tbl[ord(pat[i])]=m-1-i\n",
    "\n",
    "    return tbl\n",
    "def search_horspool(T,P):\n",
    "    m=len(P)\n",
    "    n=len(T)\n",
    "    t=shift_table(P)\n",
    "    i=m-1\n",
    "    while(i<=n-1):\n",
    "        k=0\n",
    "        while k<=m-1 and P[m-1-k]==T[i-k]:\n",
    "            k +=1\n",
    "        if k==m:\n",
    "            return i-m+1\n",
    "        else:\n",
    "            tc=t[ord(T[i-k])]\n",
    "            i+=(tc-k)\n",
    "    return -1\n",
    "\n",
    "print(\"패턴의 위치: \",search_horspool(\"KARINAWINTERNINGNINGGISELLE\",\"KARINA\"))\n"
   ]
  },
  {
   "attachments": {
    "5.5실행결과.png": {
     "image/png": "[encoded data removed]"
    },
    "image.png": {
     "image/png": "[encoded data removed]"
    }
   },
   "cell_type": "markdown",
   "metadata": {},
   "source": [
    "# 수행 결과\n",
    "![image.png](attachment:image.png)"
   ]
  },
  {
   "cell_type": "markdown",
   "metadata": {},
   "source": [
    "# 복잡도 분석\n",
    "\n",
    "주어진 패턴의 길이를 찾는 것 : O(1)  \n",
    "시프트 테이블을 초기화하는 것 : O(1)  \n",
    "반복문을 통해 패턴의 각 문자에 대한 시프트 값을 계산하고 테이블에 저장하는 것 : O(m)  \n",
    "따라서 복잡도 : O(m)  "
   ]
  },
  {
   "cell_type": "markdown",
   "metadata": {},
   "source": [
    "# 협력 내용\n",
    "홍서준 : 6-9\n",
    "최민호 : 6-8  \n",
    "권재훈 : 6-6, 6-7  \n",
    "이재선 : 6-3, 6-4\n"
   ]
  },
  {
   "cell_type": "markdown",
   "metadata": {},
   "source": []
  }
 ],
 "metadata": {
  "kernelspec": {
   "display_name": "Python 3",
   "language": "python",
   "name": "python3"
  },
  "language_info": {
   "codemirror_mode": {
    "name": "ipython",
    "version": 3
   },
   "file_extension": ".py",
   "mimetype": "text/x-python",
   "name": "python",
   "nbconvert_exporter": "python",
   "pygments_lexer": "ipython3",
   "version": "3.12.2"
  }
 },
 "nbformat": 4,
 "nbformat_minor": 2
}
