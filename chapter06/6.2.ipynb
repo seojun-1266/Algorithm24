{
 "cells": [
  {
   "cell_type": "markdown",
   "metadata": {},
   "source": [
    "# 문제정의\n",
    "이진트리를 전위 순회로 방문하는 문제 "
   ]
  },
  {
   "cell_type": "markdown",
   "metadata": {},
   "source": [
    "# 알고리즘 설명\n",
    "\n",
    "루트 노드를 먼저 방문한 후에 왼쪽 서브트리를 순회하고 오른쪽 서브트리를 순회하는 방식\n"
   ]
  },
  {
   "cell_type": "markdown",
   "metadata": {},
   "source": [
    "# 손으로 푼 예제 이미지 사진\n"
   ]
  },
  {
   "cell_type": "markdown",
   "metadata": {},
   "source": [
    "# 코드 개요\n",
    "입력 : 트리의 각 노드   \n",
    "출력 : 트리의 높이  \n",
    "함수 내용 :   \n",
    "preorder() : 이진 트리를 순회하여 노드의 값을 출력하는 gkatn  "
   ]
  },
  {
   "cell_type": "code",
   "execution_count": 5,
   "metadata": {},
   "outputs": [
    {
     "name": "stdout",
     "output_type": "stream",
     "text": [
      "Original :  [1, 4, 1, 2, 7, 5, 2]\n",
      "Counting :  [1, 1, 2, 2, 4, 5, 7]\n"
     ]
    }
   ],
   "source": [
    "# 코드\n",
    "def counting_sort(A) :\n",
    "    output = [0] * len(A)\n",
    "    count = [0] * MAX_VAL\n",
    "\n",
    "    for i in A :\n",
    "        count[i] += 1\n",
    "\n",
    "    for i in range(MAX_VAL) :\n",
    "        count[i] += count[i-1]\n",
    "\n",
    "    for i in range(len(A)) :\n",
    "        output[count[A[i]]-1] = A[i]\n",
    "        count[A[i]] -= 1\n",
    "\n",
    "    for i in range(len(A)) :\n",
    "        A[i] = output[i]\n",
    "\n",
    "MAX_VAL = 10\n",
    "data = [ 1, 4, 1, 2, 7, 5, 2 ]\n",
    "print(\"Original : \", data)\n",
    "counting_sort(data)\n",
    "print(\"Counting : \", data)"
   ]
  },
  {
   "cell_type": "code",
   "execution_count": 6,
   "metadata": {},
   "outputs": [
    {
     "name": "stdout",
     "output_type": "stream",
     "text": [
      "Original :  [1, 4, 1, 2, 7, 5, 2]\n",
      "Counting :  [1, 1, 2, 2, 4, 5, 7]\n"
     ]
    }
   ],
   "source": [
    "#테스트 코드\n",
    "\n",
    "def counting_sort(A) :\n",
    "    output = [0] * len(A)\n",
    "    count = [0] * MAX_VAL\n",
    "\n",
    "    for i in A :\n",
    "        count[i] += 1\n",
    "\n",
    "    for i in range(MAX_VAL) :\n",
    "        count[i] += count[i-1]\n",
    "\n",
    "    for i in range(len(A)) :\n",
    "        output[count[A[i]]-1] = A[i]\n",
    "        count[A[i]] -= 1\n",
    "\n",
    "    for i in range(len(A)) :\n",
    "        A[i] = output[i]\n",
    "\n",
    "MAX_VAL = 10\n",
    "data = [ 1, 4, 1, 2, 7, 5, 2 ]\n",
    "print(\"Original : \", data)\n",
    "counting_sort(data)\n",
    "print(\"Counting : \", data)"
   ]
  },
  {
   "attachments": {
    "5.5실행결과.png": {
     "image/png": "[encoded data removed]"
    },
    "6.2 수행 결과.png": {
     "image/png": "[encoded data removed]"
    }
   },
   "cell_type": "markdown",
   "metadata": {},
   "source": [
    "# 수행 결과\n",
    "![6.2 수행 결과.png](<attachment:6.2 수행 결과.png>)\n"
   ]
  },
  {
   "cell_type": "markdown",
   "metadata": {},
   "source": [
    "# 복잡도 분석\n",
    "O(n)"
   ]
  },
  {
   "cell_type": "markdown",
   "metadata": {},
   "source": [
    "# 협력 내용\n",
    "홍서준 : 3, 4, 5  \n",
    "최민호 : 6, 7  \n",
    "권재훈 : 8, 9  \n",
    "이재선 : 10, 12, 13 \n"
   ]
  },
  {
   "cell_type": "markdown",
   "metadata": {},
   "source": []
  }
 ],
 "metadata": {
  "kernelspec": {
   "display_name": "Python 3",
   "language": "python",
   "name": "python3"
  },
  "language_info": {
   "codemirror_mode": {
    "name": "ipython",
    "version": 3
   },
   "file_extension": ".py",
   "mimetype": "text/x-python",
   "name": "python",
   "nbconvert_exporter": "python",
   "pygments_lexer": "ipython3",
   "version": "3.12.2"
  }
 },
 "nbformat": 4,
 "nbformat_minor": 2
}
