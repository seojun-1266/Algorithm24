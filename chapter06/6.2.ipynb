{
 "cells": [
  {
   "cell_type": "markdown",
   "metadata": {},
   "source": [
    "# 문제정의\n",
    "이진트리를 전위 순회로 방문하는 문제 "
   ]
  },
  {
   "cell_type": "markdown",
   "metadata": {},
   "source": [
    "# 알고리즘 설명\n",
    "\n",
    "루트 노드를 먼저 방문한 후에 왼쪽 서브트리를 순회하고 오른쪽 서브트리를 순회하는 방식\n"
   ]
  },
  {
   "cell_type": "markdown",
   "metadata": {},
   "source": [
    "# 손으로 푼 예제 이미지 사진\n"
   ]
  },
  {
   "cell_type": "markdown",
   "metadata": {},
   "source": [
    "# 코드 개요\n",
    "입력 : 트리의 각 노드\n",
    "출력 : 트리의 높이\n",
    "함수 내용 : \n",
    "preorder() : 이진 트리를 순회하여 노드의 값을 출력하는 gkatn"
   ]
  },
  {
   "cell_type": "code",
   "execution_count": 1,
   "metadata": {},
   "outputs": [
    {
     "name": "stdout",
     "output_type": "stream",
     "text": [
      "Original: [1, 4, 1, 2, 7, 5, 2]\n",
      "Counting: [1, 1, 2, 2, 4, 5, 7]\n"
     ]
    }
   ],
   "source": [
    "# 코드\n",
    "def counting_sort(A):\n",
    "    output = [0] * len(A)\n",
    "    count = [0] * (MAX_VAL + 1) \n",
    "\n",
    "    for i in A:\n",
    "        count[i] += 1\n",
    "\n",
    "    for i in range(1, MAX_VAL + 1):\n",
    "        count[i] += count[i - 1]\n",
    "\n",
    "    for i in range(len(A) - 1, -1, -1): \n",
    "        output[count[A[i]] - 1] = A[i]\n",
    "        count[A[i]] -= 1\n",
    "\n",
    "    for i in range(len(A)):\n",
    "        A[i] = output[i]\n",
    "\n",
    "MAX_VAL = 10\n",
    "data = [1, 4, 1, 2, 7, 5, 2]\n",
    "print(\"Original:\", data)\n",
    "counting_sort(data)\n",
    "print(\"Counting:\", data)"
   ]
  },
  {
   "cell_type": "code",
   "execution_count": 2,
   "metadata": {},
   "outputs": [
    {
     "name": "stdout",
     "output_type": "stream",
     "text": [
      "Initial Data: [8558, 6736, 4844, 1017, 9728, 833, 7038, 251, 5086, 5633]\n",
      "step 1 [251, 833, 5633, 4844, 6736, 5086, 1017, 8558, 9728, 7038]\n",
      "step 2 [1017, 9728, 833, 5633, 6736, 7038, 4844, 251, 8558, 5086]\n",
      "step 3 [1017, 7038, 5086, 251, 8558, 5633, 9728, 6736, 833, 4844]\n",
      "step 4 [251, 833, 1017, 4844, 5086, 5633, 6736, 7038, 8558, 9728]\n",
      "Radix Sorted Data: [251, 833, 1017, 4844, 5086, 5633, 6736, 7038, 8558, 9728]\n"
     ]
    }
   ],
   "source": [
    "from queue import Queue\n",
    "\n",
    "def radix_sort(A):\n",
    "    queues = []\n",
    "    for i in range(BUCKETS):\n",
    "        queues.append(Queue())\n",
    "\n",
    "    n = len(A)\n",
    "    factor = 1\n",
    "    for d in range(DIGITS):\n",
    "        for i in range(n):\n",
    "            queues[(A[i] // factor) % BUCKETS].put(A[i])\n",
    "        j = 0\n",
    "        for b in range(BUCKETS):\n",
    "            while not queues[b].empty():\n",
    "                A[j] = queues[b].get()\n",
    "                j += 1\n",
    "        factor *= BUCKETS\n",
    "        print(\"step\", d + 1, A)\n",
    "\n",
    "import random\n",
    "\n",
    "BUCKETS = 10\n",
    "DIGITS = 4\n",
    "data = []\n",
    "for i in range(10):\n",
    "    data.append(random.randint(1, 9999))\n",
    "\n",
    "print(\"Initial Data:\", data)\n",
    "radix_sort(data)\n",
    "print(\"Radix Sorted Data:\", data)"
   ]
  },
  {
   "attachments": {
    "5.5실행결과.png": {
     "image/png": "[encoded data removed]"
    }
   },
   "cell_type": "markdown",
   "metadata": {},
   "source": [
    "# 수행 결과\n",
    "![5.5실행결과.png](attachment:5.5실행결과.png) \n"
   ]
  },
  {
   "cell_type": "markdown",
   "metadata": {},
   "source": [
    "# 복잡도 분석\n",
    "O(n)"
   ]
  },
  {
   "cell_type": "markdown",
   "metadata": {},
   "source": [
    "# 협력 내용\n",
    "홍서준 : 3, 4, 5  \n",
    "최민호 : 6, 7  \n",
    "권재훈 : 8, 9  \n",
    "이재선 : 10, 12, 13 \n"
   ]
  },
  {
   "cell_type": "markdown",
   "metadata": {},
   "source": []
  }
 ],
 "metadata": {
  "kernelspec": {
   "display_name": "Python 3",
   "language": "python",
   "name": "python3"
  },
  "language_info": {
   "codemirror_mode": {
    "name": "ipython",
    "version": 3
   },
   "file_extension": ".py",
   "mimetype": "text/x-python",
   "name": "python",
   "nbconvert_exporter": "python",
   "pygments_lexer": "ipython3",
   "version": "3.12.2"
  }
 },
 "nbformat": 4,
 "nbformat_minor": 2
}
