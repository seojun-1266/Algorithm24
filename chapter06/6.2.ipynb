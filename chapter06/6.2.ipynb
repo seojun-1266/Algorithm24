{
 "cells": [
  {
   "cell_type": "markdown",
   "metadata": {},
   "source": [
    "# 문제정의\n",
    "카운팅정렬"
   ]
  },
  {
   "cell_type": "markdown",
   "metadata": {},
   "source": [
    "# 알고리즘 설명\n",
    "\n",
    "각 원소의 빈도를 카운팅 배열에 저장한 후, 누적 합을 계산하여 정렬된 배열을 생성하는 알고리즘\n"
   ]
  },
  {
   "cell_type": "markdown",
   "metadata": {},
   "source": [
    "# 손으로 푼 예제 이미지 사진\n"
   ]
  },
  {
   "cell_type": "markdown",
   "metadata": {},
   "source": [
    "# 코드 개요\n",
    "입력 변수 : A  \n",
    "출력 : 정렬된 A \n",
    "함수 설명 : \n",
    " counting_sort(A) : 그 후 각 숫자별 빈도를 계산한 뒤, count[i]가 출력 배열에서 해당 숫자의 위치가 되도록 수정한다.  "
   ]
  },
  {
   "cell_type": "code",
   "execution_count": 5,
   "metadata": {},
   "outputs": [
    {
     "name": "stdout",
     "output_type": "stream",
     "text": [
      "Original :  [1, 4, 1, 2, 7, 5, 2]\n",
      "Counting :  [1, 1, 2, 2, 4, 5, 7]\n"
     ]
    }
   ],
   "source": [
    "# 코드\n",
    "def counting_sort(A):\n",
    "    output=[0]*len(A)\n",
    "    count=[0]*MAX_VAL\n",
    "\n",
    "    for i in A:\n",
    "        count[i]+=1\n",
    "\n",
    "    for i in range(MAX_VAL):\n",
    "        count[i]+=count[i-1]\n",
    "    \n",
    "    for i in range(len(A)):\n",
    "        output[count[A[i]]-1]=A[i]\n",
    "        count[A[i]]-=1\n",
    "    \n",
    "    for i in range(len(A)):\n",
    "        A[i]=output[i]"
   ]
  },
  {
   "cell_type": "code",
   "execution_count": 1,
   "metadata": {},
   "outputs": [
    {
     "name": "stdout",
     "output_type": "stream",
     "text": [
      "Original :  [1, 4, 1, 2, 7, 5, 2]\n",
      "Counting :  [1, 1, 2, 2, 4, 5, 7]\n"
     ]
    }
   ],
   "source": [
    "#테스트 코드\n",
    "\n",
    "def counting_sort(A):\n",
    "    output=[0]*len(A)\n",
    "    count=[0]*MAX_VAL\n",
    "\n",
    "    for i in A:\n",
    "        count[i]+=1\n",
    "\n",
    "    for i in range(MAX_VAL):\n",
    "        count[i]+=count[i-1]\n",
    "    \n",
    "    for i in range(len(A)):\n",
    "        output[count[A[i]]-1]=A[i]\n",
    "        count[A[i]]-=1\n",
    "    \n",
    "    for i in range(len(A)):\n",
    "        A[i]=output[i]\n",
    "MAX_VAL=10\n",
    "data=[1,4,1,2,7,5,2]\n",
    "print(\"Original : \",data)\n",
    "counting_sort(data)\n",
    "print(\"Counting : \",data)\n"
   ]
  },
  {
   "attachments": {
    "image.png": {
     "image/png": "[encoded data removed]"
    }
   },
   "cell_type": "markdown",
   "metadata": {},
   "source": [
    "# 수행 결과\n",
    "![image.png](attachment:image.png)\n"
   ]
  },
  {
   "cell_type": "markdown",
   "metadata": {},
   "source": [
    "# 복잡도 분석\n",
    "기본연산은 O(n)과 O(k)이다. 이 연산이 각각 두번씩 반복되므로 T(n)=k+n+k+n=2(k+n)이므로 O(n+k)의 시간복잡도를 가지게 된다.\n",
    "\n",
    "공간복잡도는 각각 입력 배열 n, 카운팅 배열 k, 출력 배열 n 의 크기를 가지는 배열을 필요 하므로 공간복잡도는 O(n+k)가 된다."
   ]
  },
  {
   "cell_type": "markdown",
   "metadata": {},
   "source": [
    "# 협력 내용\n"
   ]
  },
  {
   "cell_type": "markdown",
   "metadata": {},
   "source": []
  }
 ],
 "metadata": {
  "kernelspec": {
   "display_name": "Python 3",
   "language": "python",
   "name": "python3"
  },
  "language_info": {
   "codemirror_mode": {
    "name": "ipython",
    "version": 3
   },
   "file_extension": ".py",
   "mimetype": "text/x-python",
   "name": "python",
   "nbconvert_exporter": "python",
   "pygments_lexer": "ipython3",
   "version": "3.12.2"
  }
 },
 "nbformat": 4,
 "nbformat_minor": 2
}
