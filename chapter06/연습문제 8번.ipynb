{
 "cells": [
  {
   "cell_type": "code",
   "execution_count": 6,
   "metadata": {},
   "outputs": [
    {
     "name": "stdout",
     "output_type": "stream",
     "text": [
      "Original: ['고', '고', '즘', '알', '리', '알', '즘', '즘', '고', '리']\n",
      "Counting: ['고', '고', '고', '리', '리', '알', '알', '즘', '즘', '즘']\n"
     ]
    }
   ],
   "source": [
    "def counting_sort(arr):\n",
    "    unique_elements = list(set(arr))\n",
    "    unique_elements.sort()\n",
    "    element_to_index = {element: idx for idx, element in enumerate(unique_elements)}\n",
    "    index_to_element = {idx: element for idx, element in enumerate(unique_elements)}\n",
    "    MAX_VAL = len(unique_elements)\n",
    "    output = [0] * len(arr)\n",
    "    count = [0] * (MAX_VAL + 1)\n",
    "\n",
    "    for element in arr:\n",
    "        count[element_to_index[element]] += 1\n",
    "\n",
    "    for i in range(1, MAX_VAL):\n",
    "        count[i] += count[i - 1]\n",
    " \n",
    "    for element in reversed(arr):\n",
    "        output[count[element_to_index[element]] - 1] = element\n",
    "        count[element_to_index[element]] -= 1\n",
    "\n",
    "    for i in range(len(arr)):\n",
    "        arr[i] = output[i]\n",
    "\n",
    "A = [\"고\", \"고\", \"즘\", \"알\", \"리\", \"알\", \"즘\", \"즘\", \"고\", \"리\"]\n",
    "\n",
    "print(\"Original:\", A)\n",
    "\n",
    "counting_sort(A)\n",
    "\n",
    "print(\"Counting:\", A)\n"
   ]
  },
  {
   "cell_type": "markdown",
   "metadata": {},
   "source": [
    "A = [\"고\", \"고\", \"즘\", \"알\", \"리\", \"알\", \"즘\", \"즘\", \"고\", \"리\"]"
   ]
  }
 ],
 "metadata": {
  "kernelspec": {
   "display_name": "Python 3",
   "language": "python",
   "name": "python3"
  },
  "language_info": {
   "codemirror_mode": {
    "name": "ipython",
    "version": 3
   },
   "file_extension": ".py",
   "mimetype": "text/x-python",
   "name": "python",
   "nbconvert_exporter": "python",
   "pygments_lexer": "ipython3",
   "version": "3.12.2"
  }
 },
 "nbformat": 4,
 "nbformat_minor": 2
}
