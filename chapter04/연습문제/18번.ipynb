{
 "cells": [
  {
   "cell_type": "markdown",
   "metadata": {},
   "source": [
    "### 18. 알고리즘 4.11의 quick_select()를 이용해 리스트 A=[12, 5, 7, 9, 18, 3, 8]에서 중앙값(median)을 찾는 과정을 보여라. "
   ]
  },
  {
   "cell_type": "code",
   "execution_count": 5,
   "metadata": {},
   "outputs": [
    {
     "name": "stdout",
     "output_type": "stream",
     "text": [
      "[1, 2, 5, 7, 15, 8, 3]\n",
      "[1, 2, 5, 7, 15, 8, 3]\n",
      "[1, 2, 3, 5, 15, 8, 7]\n",
      "5\n"
     ]
    }
   ],
   "source": [
    "def part(arr, start, end): \n",
    "    l = start + 1\n",
    "    h = end\n",
    "    p = arr[start] \n",
    "    \n",
    "    while l <= h:\n",
    "        while l <= end and arr[l] < p:\n",
    "            l += 1\n",
    "        while h >= start and arr[h] > p:\n",
    "            h -= 1\n",
    "            \n",
    "        if l <= h:\n",
    "            arr[l], arr[h] = arr[h], arr[l]\n",
    "            l += 1\n",
    "            h -= 1\n",
    "    \n",
    "    arr[start], arr[h] = arr[h], arr[start]\n",
    "    print(arr)\n",
    "    return h\n",
    "\n",
    "def quick_select(arr, start, end, k):\n",
    "    pos = part(arr, start, end)\n",
    "    \n",
    "    if pos + 1 == start + k:\n",
    "        return arr[pos]\n",
    "    elif pos + 1 < start + k:\n",
    "        return quick_select(arr, pos + 1, end, k - (pos + 1 - start))\n",
    "    else:\n",
    "        return quick_select(arr, start, pos - 1, k)\n",
    "\n",
    "arr = [1, 2, 5, 7, 15, 8, 3]\n",
    "\n",
    "if len(arr) % 2 != 0:\n",
    "    print(quick_select(arr, 0, len(arr) - 1, len(arr) // 2 + 1))\n",
    "else:\n",
    "    print(quick_select(arr, 0, len(arr) - 1, len(arr) // 2))\n"
   ]
  },
  {
   "attachments": {
    "image.png": {
     "image/png": "[encoded data removed]"
    }
   },
   "cell_type": "markdown",
   "metadata": {},
   "source": [
    "![image.png](attachment:image.png) "
   ]
  },
  {
   "cell_type": "markdown",
   "metadata": {},
   "source": []
  }
 ],
 "metadata": {
  "kernelspec": {
   "display_name": "Python 3",
   "language": "python",
   "name": "python3"
  },
  "language_info": {
   "codemirror_mode": {
    "name": "ipython",
    "version": 3
   },
   "file_extension": ".py",
   "mimetype": "text/x-python",
   "name": "python",
   "nbconvert_exporter": "python",
   "pygments_lexer": "ipython3",
   "version": "3.12.2"
  }
 },
 "nbformat": 4,
 "nbformat_minor": 2
}
