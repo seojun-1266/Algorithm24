{
 "cells": [
  {
   "cell_type": "markdown",
   "metadata": {},
   "source": [
    "### 5. 다음 삽입 정렬의 변형된 알고리즘이다."
   ]
  },
  {
   "cell_type": "code",
   "execution_count": 1,
   "metadata": {},
   "outputs": [
    {
     "name": "stdout",
     "output_type": "stream",
     "text": [
      "정렬된 리스트: [3, 4, 5, 6, 7, 7, 8, 9]\n"
     ]
    }
   ],
   "source": [
    "def insertion_sort2(A, n):\n",
    "    for i in range(1, n):\n",
    "        j = i - 1\n",
    "        while j >= 0 and A[j] > A[j + 1]:\n",
    "            A[j], A[j + 1] = A[j + 1], A[j]\n",
    "            j -= 1\n"
   ]
  },
  {
   "cell_type": "markdown",
   "metadata": {},
   "source": []
  },
  {
   "cell_type": "code",
   "execution_count": null,
   "metadata": {},
   "outputs": [],
   "source": [
    "(1)이 알고리즘을 구현하라."
   ]
  },
  {
   "cell_type": "code",
   "execution_count": 2,
   "metadata": {},
   "outputs": [
    {
     "name": "stdout",
     "output_type": "stream",
     "text": [
      "정렬된 리스트: [3, 4, 5, 6, 7, 7, 8, 9]\n"
     ]
    }
   ],
   "source": [
    "def insertion_sort2(A, n):\n",
    "    for i in range(1, n):\n",
    "        j = i - 1\n",
    "        while j >= 0 and A[j] > A[j + 1]:\n",
    "            A[j], A[j + 1] = A[j + 1], A[j]\n",
    "            j -= 1\n",
    "\n",
    "A = [7, 4, 9, 6, 3, 8, 7, 5]\n",
    "n = len(A)\n",
    "\n",
    "insertion_sort2(A, n)\n",
    "print(\"정렬된 리스트:\", A)"
   ]
  },
  {
   "cell_type": "markdown",
   "metadata": {},
   "source": [
    "(2) 이 알고리즘의 효율은 어떨까? 알고리즘 4.3과 비교하여 설명하라.\n",
    "\n"
   ]
  },
  {
   "cell_type": "markdown",
   "metadata": {},
   "source": [
    "첫 번째 알고리즘(insertion_sort2)은 다음과 같은 단계로 이루어져 있습니다:\n",
    "문제의 알고리즘은 리스트를 모든요소를 한 번씩 순회하며 삽입 정렬을 수행하고\n",
    "각 요소마다 이전요소와 비교하여 올바른 위치에 삽입한다.\n",
    "알고리즘 4.3은 문제의 알고리즘과 같은 단계를 수행 후 삽입할 위치를 찾기 위해 key 값을 사용하여 비교한다.\n",
    "문제의 알고리즘의 효율은 알고리즘 4.3에 비해 조금 더 낮다.\n",
    "이유로는 문제의 알고리즘이 각 요소를 삽입할 때 마다 이전 요소와 비교하여 위치를 찾기 때문에 불필요한 비교 연산이 발생할 수 있기 때문이다."
   ]
  }
 ],
 "metadata": {
  "kernelspec": {
   "display_name": "Python 3",
   "language": "python",
   "name": "python3"
  },
  "language_info": {
   "codemirror_mode": {
    "name": "ipython",
    "version": 3
   },
   "file_extension": ".py",
   "mimetype": "text/x-python",
   "name": "python",
   "nbconvert_exporter": "python",
   "pygments_lexer": "ipython3",
   "version": "3.12.2"
  }
 },
 "nbformat": 4,
 "nbformat_minor": 2
}
