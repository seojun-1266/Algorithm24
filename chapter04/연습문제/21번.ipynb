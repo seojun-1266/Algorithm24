{
 "cells": [
  {
   "cell_type": "markdown",
   "metadata": {},
   "source": [
    "### 21* 피벗을 이용해 리스트를 나누는 다른 알고리즘들도 있다. 알고리즘 4.12는 호어(Hoare) 분할인데, 로무토(Lomuto) 분할이라는 방법도 있다. 이 방법을 조사하고 두 방법을 장단점을 비교하라. 이 방법을 조사하고 두 방법의 장단점을 비교하라. Lomuto 분할을 구현하고, 이를 이용해 알고리즘 4.11을 테스트해 보라."
   ]
  },
  {
   "cell_type": "markdown",
   "metadata": {},
   "source": [
    "장단점 비교\n",
    "\n",
    "위 두 방식 모두 평균적인 시간복잡도는 O(NlogN) 이지만 최악의 시간복잡도는 모두 O(N^2)이 될 수 있음.\n",
    "\n",
    "일반적으로 피봇값이 레코드들의 중간 값으로 채택되면 효율이 높아지게 되는데 간단한 방법으로 피봇값을 '맨 왼쪽, 중간, 맨 오른쪽' 3개의 값 중에서 중간 값을 택하여 이를 아래 그림의 Pivot 위치와 swap해준 뒤 정렬하는 것을 통해 최상의 피봇값 지정을 함으로써 효율을 높일 수 있다.\n",
    "\n",
    "호어분할과 로무토 분할중에 호어 분할방식이 더 유리하다 평균적으로 swap을 3배 이상 덜 발생시키기 때문이다."
   ]
  },
  {
   "cell_type": "code",
   "execution_count": null,
   "metadata": {},
   "outputs": [],
   "source": [
    "def quick_select(A, left, right, k):\n",
    "    pivot_index = partition(A, left, right)\n",
    "    \n",
    "    if pivot_index == k - 1:\n",
    "        return A[pivot_index]\n",
    "    elif pivot_index > k - 1:\n",
    "        return quick_select(A, left, pivot_index - 1, k)\n",
    "    else:\n",
    "        return quick_select(A, pivot_index + 1, right, k)\n",
    "\n",
    "def partition(A, left, right):\n",
    "    pivot = A[right]\n",
    "    i = left\n",
    "    for j in range(left, right):\n",
    "        if A[j] <= pivot:\n",
    "            A[i], A[j] = A[j], A[i]\n",
    "            i += 1\n",
    "    A[i], A[right] = A[right], A[i]\n",
    "    return i\n",
    "\n",
    "def main():\n",
    "    array = [12, 3, 5, 7, 4, 19, 26, 23, 15]\n",
    "    print(\"입력 리스트 =\", array)\n",
    "    \n",
    "    # 축소 기법으로 k번째 작은 수 찾기\n",
    "    k = 3\n",
    "    print(\"[축소 기법] {}번째 작은 수:\".format(k), quick_select(array, 0, len(array) - 1, k))\n",
    "\n",
    "if __name__ == \"__main__\":\n",
    "    main()"
   ]
  }
 ],
 "metadata": {
  "language_info": {
   "name": "python"
  }
 },
 "nbformat": 4,
 "nbformat_minor": 2
}
