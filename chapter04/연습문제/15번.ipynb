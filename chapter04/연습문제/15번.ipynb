{
 "cells": [
  {
   "cell_type": "markdown",
   "metadata": {},
   "source": [
    "## 15. 삼진탐색 알고리즘을 살펴보자. 정렬된 리스트 A[0..n-1]이 주어졌고 탐색키 key를 찾으려고 한다. 만약 n = 1이면 단순히 항목을 key와 비교하면 된다. 만약 n>1이면 먼저 A[/3]을 key와 비교하고, 만약 key보다 작으면 탐색은 A[0..[n/3]-1]에 대해 진행한다. 만약 크기가 크다면 A[[2n/3]]을 key와 비교하고, key보다 작다면 다음 탐색을 A[[n/3]+1..[2n/3]-1]에 대해 진행하고 그렇지 않으면 A[[2n/3]..n-1]에서 탐색을 진행한다 물론 key와 같으면 탐색은 종료된다.\n"
   ]
  },
  {
   "cell_type": "markdown",
   "metadata": {},
   "source": [
    "(1) 이 알고리즘은 어떤 설계 전략을 사용해는가? \n",
    " <br/>분할정복 전략 \n",
    " <br/>\n",
    " <br/>\n",
    "(2) 최악의 경우에 대해 비교 연산의 횟수에 대한 순환 관계식을 구하라 <br/>\n",
    "T(n)=T(2n/3)+T(n/3)+2\n",
    "<br/> <br/>\n",
    "\n",
    "(3) n = 3^k인 경우에 대해 이 순환 관계식을 풀어라\n",
    " <br/>\n",
    " T(3^k) = 2^(k+1)+c\n",
    "<br/>\n",
    "<br/>\n",
    "(4) 이진 탐색과 삼진 탐색 알고리즘의 시간 복잡도를 비교하여 설명하라.\n",
    "<br/>\n",
    "    이진 탐색은 반복마다 1/2으로 줄어들고 삼진탐색은 1/3으로 줄어들기 때문에 언뜻보면 삼진 탐색이 유용하다고 생각할 수 있다. 하지만 1번 반복 할 때 이진 탐색이 삼진탐색에 비해 많이 간단하다. 결과적으로 봤을 때 특정한 경우를 제외하면 이진 탐색이 더 빠르다.\n"
   ]
  },
  {
   "cell_type": "code",
   "execution_count": 3,
   "metadata": {},
   "outputs": [
    {
     "name": "stdout",
     "output_type": "stream",
     "text": [
      "13찾음  인덱스 6에 있음\n"
     ]
    }
   ],
   "source": [
    "## (5) 이 알고리즘을 구현하고 동작을 테스트하라.\n",
    "def ternary_search(arr, key):\n",
    "    left = 0\n",
    "    right = len(arr) - 1\n",
    "\n",
    "    while left <= right:\n",
    "        third = (right - left) // 3\n",
    "        mid1 = left + third\n",
    "        mid2 = right - third\n",
    "\n",
    "        if arr[mid1] == key:\n",
    "            return mid1\n",
    "        elif arr[mid2] == key:\n",
    "            return mid2\n",
    "\n",
    "        elif key < arr[mid1]:\n",
    "            right = mid1 - 1\n",
    "        elif key > arr[mid2]:\n",
    "            left = mid2 + 1\n",
    "        else:\n",
    "            left = mid1 + 1\n",
    "            right = mid2 - 1\n",
    "\n",
    "    return -1 \n",
    "\n",
    "arr = [1, 3, 5, 7, 9, 11, 13, 15, 17, 19]\n",
    "key = 13\n",
    "result = ternary_search(arr, key)\n",
    "if result != -1:\n",
    "    print(f\"{key}찾음  인덱스 {result}에 있음\")\n",
    "else:\n",
    "    print(f\"{key}없음\")\n"
   ]
  },
  {
   "cell_type": "markdown",
   "metadata": {},
   "source": []
  },
  {
   "cell_type": "code",
   "execution_count": null,
   "metadata": {},
   "outputs": [],
   "source": []
  }
 ],
 "metadata": {
  "kernelspec": {
   "display_name": "Python 3",
   "language": "python",
   "name": "python3"
  },
  "language_info": {
   "codemirror_mode": {
    "name": "ipython",
    "version": 3
   },
   "file_extension": ".py",
   "mimetype": "text/x-python",
   "name": "python",
   "nbconvert_exporter": "python",
   "pygments_lexer": "ipython3",
   "version": "3.12.2"
  }
 },
 "nbformat": 4,
 "nbformat_minor": 2
}
