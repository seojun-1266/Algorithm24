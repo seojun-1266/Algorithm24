{
 "cells": [
  {
   "cell_type": "markdown",
   "metadata": {},
   "source": [
    "### 16. 두 행렬을 곱하는 multMul(M1,M2) 함수를 구현하고, 알고리즘 4.9의 행렬 거듭제곱 알고리즘이 잘 동작한다는 것을 몇 가지 예를 통해 보여라."
   ]
  },
  {
   "cell_type": "code",
   "execution_count": null,
   "metadata": {},
   "outputs": [],
   "source": [
    "#알고리즘\n",
    " def multMul(M1, M2):\n",
    "    result = []\n",
    "    for i in range(len(M1)):\n",
    "        row = []\n",
    "        for j in range(len(M2[0])):\n",
    "            total = 0\n",
    "            for k in range(len(M2)):\n",
    "                total += M1[i][k] * M2[k][j]\n",
    "            row.append(total)\n",
    "        result.append(row)\n",
    "    return result"
   ]
  },
  {
   "cell_type": "code",
   "execution_count": null,
   "metadata": {},
   "outputs": [],
   "source": [
    "#구현\n",
    "def powerMat(x, n):\n",
    "    if n == 1:\n",
    "        return x\n",
    "    elif (n % 2) == 0:\n",
    "        return powerMat(multMul(x, x), n // 2)\n",
    "    else:\n",
    "        return multMul(x, powerMat(multMul(x, x), (n - 1) // 2))\n",
    "\n",
    "M = [[1, 2],\n",
    "     [3, 4]]\n",
    "\n",
    "N =[[3,2],\n",
    "   [5,6]]\n",
    "\n",
    "P=[[3,1],[8,6]]\n",
    "print(powerMat(M, 3))\n",
    "\n",
    "print(powerMat(N,2))\n",
    "\n",
    "print(powerMat(P,5))"
   ]
  }
 ],
 "metadata": {
  "language_info": {
   "name": "python"
  }
 },
 "nbformat": 4,
 "nbformat_minor": 2
}
