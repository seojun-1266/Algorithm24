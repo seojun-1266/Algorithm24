{
 "cells": [
  {
   "cell_type": "markdown",
   "metadata": {},
   "source": [
    "### 11. 항목의 개수가 100만 개인 리스트를 탐색하려고 한다. 최악의 입력을 고려하여 순차 탐색에 비해 이진 탐색이 얼마나 더 빠를지를 설명하라"
   ]
  },
  {
   "cell_type": "markdown",
   "metadata": {},
   "source": [
    "순차 탐색의 최악의 경우, 시간복잡도는 O(n)이 되고, 이진 탐색의 경우 O()의 시간복잡도를 가진다. 항목의 개수가 100만개인 경우, 순차탐색은 100만번의 비교가 필요한 반면, 이진탐색은 약 20번의 비교로 탐색이 완료된다. 따라서 순차탐색에 비해 이진탐색이 1,000,000/20 = 50000배정도 더 빠르다."
   ]
  },
  {
   "cell_type": "code",
   "execution_count": null,
   "metadata": {},
   "outputs": [],
   "source": []
  }
 ],
 "metadata": {
  "language_info": {
   "name": "python"
  }
 },
 "nbformat": 4,
 "nbformat_minor": 2
}
