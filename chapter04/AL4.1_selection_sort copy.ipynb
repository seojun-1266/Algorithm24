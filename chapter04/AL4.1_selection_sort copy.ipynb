{
 "cells": [
  {
   "cell_type": "markdown",
   "metadata": {},
   "source": [
    "# 문제정의\n",
    "축소 정복 기법을 사용해 팩토리얼을 계산한다."
   ]
  },
  {
   "cell_type": "markdown",
   "metadata": {},
   "source": [
    "# 알고리즘 설명\n",
    "하향식 접근의 축소 정보 기법과 순환구조를 통한 팩토리얼의 계산"
   ]
  },
  {
   "cell_type": "markdown",
   "metadata": {},
   "source": [
    "# 손으로 푼 예제 이미지 사진\n",
    "![image.png](attachment:image.png)"
   ]
  },
  {
   "cell_type": "markdown",
   "metadata": {},
   "source": [
    "# 코드 개요\n",
    "입력변수 : 정수 n\n",
    "\n",
    "출력 : n!\n",
    "\n",
    "함수 설명 : n=1일 경우 1을 반환하고 1이 아닐경우 n-1이 1이 될 때까지 반복해 곱한다"
   ]
  },
  {
   "cell_type": "code",
   "execution_count": 1,
   "metadata": {},
   "outputs": [],
   "source": [
    "# 코드\n",
    "def factorial_recur(n):\n",
    "    if n==1:\n",
    "        return 1\n",
    "    else:\n",
    "        return (n*factorial_recur(n-1))"
   ]
  },
  {
   "cell_type": "code",
   "execution_count": 3,
   "metadata": {},
   "outputs": [
    {
     "name": "stdout",
     "output_type": "stream",
     "text": [
      "5 !의 값은 120 입니다.\n"
     ]
    }
   ],
   "source": [
    "# 테스트 코드\n",
    "def factorial_recur(n):\n",
    "    if n==1:\n",
    "        return 1\n",
    "    else:\n",
    "        return (n*factorial_recur(n-1))\n",
    "n=int(input(\"정수 n 값을 입력하시오: \"))\n",
    "result = factorial_recur(n)\n",
    "print(n, \"!의 값은\", result, \"입니다.\")\n"
   ]
  },
  {
   "attachments": {
    "image.png": {
     "image/png": "[encoded data removed]"
    }
   },
   "cell_type": "markdown",
   "metadata": {},
   "source": [
    "# 수행 결과\n",
    "![image.png](attachment:image.png)"
   ]
  },
  {
   "cell_type": "markdown",
   "metadata": {},
   "source": [
    "# 복잡도 분석\n",
    "변수 n의 값만큼 계산하므로 O(n)이다."
   ]
  },
  {
   "cell_type": "markdown",
   "metadata": {},
   "source": [
    "# 협력 내용\n",
    "재훈 : 4.5\n",
    "유찬 : 4.6, 4.7\n",
    "서준 : 4.8, 4.10\n",
    "민호 : 4.11, 4,12"
   ]
  },
  {
   "cell_type": "markdown",
   "metadata": {},
   "source": []
  }
 ],
 "metadata": {
  "kernelspec": {
   "display_name": "Python 3",
   "language": "python",
   "name": "python3"
  },
  "language_info": {
   "codemirror_mode": {
    "name": "ipython",
    "version": 3
   },
   "file_extension": ".py",
   "mimetype": "text/x-python",
   "name": "python",
   "nbconvert_exporter": "python",
   "pygments_lexer": "ipython3",
   "version": "3.12.2"
  }
 },
 "nbformat": 4,
 "nbformat_minor": 2
}
