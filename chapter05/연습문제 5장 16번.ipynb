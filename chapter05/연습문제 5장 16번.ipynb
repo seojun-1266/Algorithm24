{
 "cells": [
  {
   "cell_type": "markdown",
   "metadata": {},
   "source": [
    "# 16번 "
   ]
  },
  {
   "cell_type": "markdown",
   "metadata": {},
   "source": [
    "퀵정렬은 안정적이지 않다\n",
    "\n",
    "{5, 4, 3. 2, 1, 5, 4, 7}\n",
    "\n",
    "이런 중복이 있는 배열에서 피벗보다 작은 요소들은 왼쪽으로 피벗보다  \n",
    "큰 요소들은 오른쪽으로 이동하게 되는데 정렬을 하는 과정에서  \n",
    "중복되는 숫자 4또는 5가 피벗이 되었을 경우중복되는 숫자를 만났을 때 순서의 이동이 일어나지 않는다.  \n",
    "이 경우 동일한 키를 가진 요소들의 상대적인 순서를 보장하지 않기 때문에 안정적이지 않다.  "
   ]
  }
 ],
 "metadata": {
  "kernelspec": {
   "display_name": "Python 3",
   "language": "python",
   "name": "python3"
  },
  "language_info": {
   "codemirror_mode": {
    "name": "ipython",
    "version": 3
   },
   "file_extension": ".py",
   "mimetype": "text/x-python",
   "name": "python",
   "nbconvert_exporter": "python",
   "pygments_lexer": "ipython3",
   "version": "3.12.2"
  }
 },
 "nbformat": 4,
 "nbformat_minor": 2
}
