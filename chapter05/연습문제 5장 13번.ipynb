{
 "cells": [
  {
   "cell_type": "markdown",
   "metadata": {},
   "source": [
    "# 13번 \n"
   ]
  },
  {
   "cell_type": "code",
   "execution_count": 1,
   "metadata": {},
   "outputs": [
    {
     "name": "stdout",
     "output_type": "stream",
     "text": [
      "[1, 2, 3, 4, 5, 6, 7, 8]\n"
     ]
    }
   ],
   "source": [
    "def med3(arr, l, r):\n",
    "    m = (l + r) // 2\n",
    "    if arr[l] > arr[m]:\n",
    "        arr[l], arr[m] = arr[m], arr[l]\n",
    "    if arr[l] > arr[r]:\n",
    "        arr[l], arr[r] = arr[r], arr[l]\n",
    "    if arr[m] > arr[r]:\n",
    "        arr[m], arr[r] = arr[r], arr[m]\n",
    "    arr[m], arr[l] = arr[l], arr[m]\n",
    "    return arr[l]\n",
    "\n",
    "def partition(arr, l, r):\n",
    "    p = med3(arr, l, r)\n",
    "    lo = l + 1\n",
    "    hi = r\n",
    "    \n",
    "    while lo <= hi:\n",
    "        while lo <= r and arr[lo] <= p:\n",
    "            lo += 1\n",
    "        while hi >= l and arr[hi] > p:\n",
    "            hi -= 1\n",
    "        if lo <= hi:\n",
    "            arr[lo], arr[hi] = arr[hi], arr[lo]\n",
    "    \n",
    "    arr[l], arr[hi] = arr[hi], arr[l]\n",
    "    return hi\n",
    "\n",
    "def qsort(arr, l, r):\n",
    "    if l < r:\n",
    "        pi = partition(arr, l, r)\n",
    "        qsort(arr, l, pi - 1)\n",
    "        qsort(arr, pi + 1, r)\n",
    "\n",
    "arr = [1, 2, 3, 4, 5, 6, 7, 8]\n",
    "qsort(arr, 0, len(arr) - 1)\n",
    "\n",
    "print(arr)  \n"
   ]
  },
  {
   "cell_type": "code",
   "execution_count": null,
   "metadata": {},
   "outputs": [],
   "source": []
  }
 ],
 "metadata": {
  "kernelspec": {
   "display_name": "Python 3",
   "language": "python",
   "name": "python3"
  },
  "language_info": {
   "codemirror_mode": {
    "name": "ipython",
    "version": 3
   },
   "file_extension": ".py",
   "mimetype": "text/x-python",
   "name": "python",
   "nbconvert_exporter": "python",
   "pygments_lexer": "ipython3",
   "version": "3.12.2"
  }
 },
 "nbformat": 4,
 "nbformat_minor": 2
}
