{
 "cells": [
  {
   "cell_type": "markdown",
   "metadata": {},
   "source": [
    "# 문제정의\n",
    "리스트를 분할하여 각 부분 리스트를 정렬한 후, 병합하여 전체 리스트를 정렬"
   ]
  },
  {
   "cell_type": "markdown",
   "metadata": {},
   "source": [
    "# 알고리즘 설명\n",
    "분할하여 정렬하고 다시 병합하는 알고리즘"
   ]
  },
  {
   "cell_type": "markdown",
   "metadata": {},
   "source": [
    "# 손으로 푼 예제 이미지 사진"
   ]
  },
  {
   "cell_type": "markdown",
   "metadata": {},
   "source": [
    "# 코드 개요\n",
    "입력변수 : A, left, right  \n",
    "출력변수 : 정렬된 리스트 A  \n",
    "함수 설명 :  \n",
    "merge : 주어진 리스트를 반반 나누고 각 각 정렬  \n",
    "merge_sort : 나뉘고 정렬된 리스트를 하나로 합침\n",
    "            \n"
   ]
  },
  {
   "cell_type": "code",
   "execution_count": 7,
   "metadata": {},
   "outputs": [
    {
     "name": "stdout",
     "output_type": "stream",
     "text": [
      "Original:  [5, 3, 8, 4, 9, 1, 6, 2, 7]\n",
      "merge_sort:  [1, 2, 3, 4, 5, 6, 7, 8, 9]\n"
     ]
    }
   ],
   "source": [
    "#알고리즘 코드\n",
    "\n",
    "def merge(A, left, mid, right):\n",
    "    k = left\n",
    "    i = left\n",
    "    j = mid + 1\n",
    "    while i <= mid and j <= right:\n",
    "        if A[i] <= A[j]:\n",
    "            sorted[k] = A[i]\n",
    "            i, k = i + 1, k + 1\n",
    "        else:\n",
    "            sorted[k] = A[j]\n",
    "            j, k = j + 1, k + 1\n",
    "\n",
    "    if i > mid:\n",
    "        sorted[k:k + right - j + 1] = A[j:right + 1]\n",
    "    else:\n",
    "        sorted[k:k + mid - i + 1] = A[i:mid + 1]\n",
    "\n",
    "    A[left:right + 1] = sorted[left:right + 1]\n",
    "\n",
    "\n",
    "def merge_sort(A, left, right):\n",
    "    if left < right:\n",
    "        mid = (left + right) // 2\n",
    "        merge_sort(A, left, mid)\n",
    "        merge_sort(A, mid + 1, right)\n",
    "        merge(A, left, mid, right)\n",
    "\n",
    "\n"
   ]
  },
  {
   "cell_type": "code",
   "execution_count": 8,
   "metadata": {},
   "outputs": [
    {
     "name": "stdout",
     "output_type": "stream",
     "text": [
      "Original:  [5, 3, 8, 4, 9, 1, 6, 2, 7]\n",
      "merge_sort:  [1, 2, 3, 4, 5, 6, 7, 8, 9]\n"
     ]
    }
   ],
   "source": [
    "# 테스트 코드\n",
    "\n",
    "def merge(A, left, mid, right):\n",
    "    k = left\n",
    "    i = left\n",
    "    j = mid + 1\n",
    "    while i <= mid and j <= right:\n",
    "        if A[i] <= A[j]:\n",
    "            sorted[k] = A[i]\n",
    "            i, k = i + 1, k + 1\n",
    "        else:\n",
    "            sorted[k] = A[j]\n",
    "            j, k = j + 1, k + 1\n",
    "\n",
    "    if i > mid:\n",
    "        sorted[k:k + right - j + 1] = A[j:right + 1]\n",
    "    else:\n",
    "        sorted[k:k + mid - i + 1] = A[i:mid + 1]\n",
    "\n",
    "    A[left:right + 1] = sorted[left:right + 1]\n",
    "\n",
    "\n",
    "def merge_sort(A, left, right):\n",
    "    if left < right:\n",
    "        mid = (left + right) // 2\n",
    "        merge_sort(A, left, mid)\n",
    "        merge_sort(A, mid + 1, right)\n",
    "        merge(A, left, mid, right)\n",
    "\n",
    "\n",
    "data = [5, 3, 8, 4, 9, 1, 6, 2, 7]\n",
    "sorted = [0] * len(data)\n",
    "print(\"Original: \", data)\n",
    "merge_sort(data, 0, len(data) - 1)\n",
    "print(\"merge_sort: \", data)"
   ]
  },
  {
   "attachments": {
    "5.2실행결과.png": {
     "image/png": "[encoded data removed]"
    }
   },
   "cell_type": "markdown",
   "metadata": {},
   "source": [
    "# 수행 결과\n",
    "![5.2실행결과.png](attachment:5.2실행결과.png)"
   ]
  },
  {
   "cell_type": "markdown",
   "metadata": {},
   "source": [
    "# 복잡도 분석\n",
    "O(nlogn)"
   ]
  },
  {
   "cell_type": "markdown",
   "metadata": {},
   "source": [
    "# 협력 내용\n"
   ]
  },
  {
   "cell_type": "markdown",
   "metadata": {},
   "source": []
  }
 ],
 "metadata": {
  "kernelspec": {
   "display_name": "Python 3",
   "language": "python",
   "name": "python3"
  },
  "language_info": {
   "codemirror_mode": {
    "name": "ipython",
    "version": 3
   },
   "file_extension": ".py",
   "mimetype": "text/x-python",
   "name": "python",
   "nbconvert_exporter": "python",
   "pygments_lexer": "ipython3",
   "version": "3.12.2"
  }
 },
 "nbformat": 4,
 "nbformat_minor": 2
}
